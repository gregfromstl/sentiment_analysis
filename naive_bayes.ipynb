{
 "cells": [
  {
   "cell_type": "markdown",
   "source": [
    "## Sentiment Analysis Challenge\n",
    "#### Naive Bayes Implementation"
   ],
   "metadata": {
    "collapsed": false
   }
  },
  {
   "cell_type": "markdown",
   "source": [
    "Imports."
   ],
   "metadata": {
    "collapsed": false,
    "pycharm": {
     "name": "#%% md\n"
    }
   }
  },
  {
   "cell_type": "code",
   "execution_count": 81,
   "outputs": [],
   "source": [
    "import csv\n",
    "import math"
   ],
   "metadata": {
    "collapsed": false,
    "pycharm": {
     "name": "#%%\n"
    }
   }
  },
  {
   "cell_type": "markdown",
   "source": [
    "Set input variables."
   ],
   "metadata": {
    "collapsed": false,
    "pycharm": {
     "name": "#%% md\n"
    }
   }
  },
  {
   "cell_type": "code",
   "execution_count": 82,
   "outputs": [],
   "source": [
    "train_file = 'data/train.tsv'\n",
    "validation_percent = 0.05\n",
    "test_file = 'data/train.tsv'\n",
    "using_word_pairs = False"
   ],
   "metadata": {
    "collapsed": false,
    "pycharm": {
     "name": "#%%\n"
    }
   }
  },
  {
   "cell_type": "markdown",
   "source": [
    "Import the data from provided file, only including valid rows with both labels and data."
   ],
   "metadata": {
    "collapsed": false,
    "pycharm": {
     "name": "#%% md\n"
    }
   }
  },
  {
   "cell_type": "code",
   "execution_count": 83,
   "outputs": [],
   "source": [
    "labels = []\n",
    "inputs = []\n",
    "with open(train_file, encoding='utf-8') as data:\n",
    "  reader = csv.reader(data, delimiter='\\t')\n",
    "  for row in reader:\n",
    "    if len(row) == 2:\n",
    "        labels.append(row[0])\n",
    "        inputs.append(row[1])"
   ],
   "metadata": {
    "collapsed": false,
    "pycharm": {
     "name": "#%%\n"
    }
   }
  },
  {
   "cell_type": "markdown",
   "source": [],
   "metadata": {
    "collapsed": false,
    "pycharm": {
     "name": "#%% md\n"
    }
   }
  },
  {
   "cell_type": "code",
   "execution_count": 84,
   "outputs": [],
   "source": [
    "if len(test_file) > 0:\n",
    "    with open(test_file, encoding='utf-8') as data:\n",
    "      reader = csv.reader(data, delimiter='\\t')\n",
    "      test_labels = []\n",
    "      test_inputs = []\n",
    "      for row in reader:\n",
    "        if len(row) == 2:\n",
    "            test_labels.append(row[0])\n",
    "            test_inputs.append(row[1])\n",
    "else:\n",
    "    num_train_samples = int(len(labels) * (1-validation_percent))\n",
    "    train_labels = labels[:num_train_samples]\n",
    "    train_inputs = inputs[:num_train_samples]\n",
    "    test_labels = labels[num_train_samples:]\n",
    "    test_inputs = inputs[num_train_samples:]"
   ],
   "metadata": {
    "collapsed": false,
    "pycharm": {
     "name": "#%%\n"
    }
   }
  },
  {
   "cell_type": "markdown",
   "source": [
    "Tested punctuation removal and lowercase normalizing but both performed significantly (at least 3%) worse on validation data.\n"
   ],
   "metadata": {
    "collapsed": false,
    "pycharm": {
     "name": "#%% md\n"
    }
   }
  },
  {
   "cell_type": "code",
   "execution_count": 85,
   "outputs": [],
   "source": [
    "def count_words(documents_list):\n",
    "    _counts = {'positive': {}, 'negative': {}}\n",
    "    for _idx, document in enumerate(documents_list):\n",
    "            _sentiment = 'positive' if int(labels[_idx]) else 'negative'\n",
    "            for word in document.split():\n",
    "                if word in _counts[_sentiment]:\n",
    "                    _counts[_sentiment][word] += 1\n",
    "                else:\n",
    "                    _counts[_sentiment][word] = 1\n",
    "    return _counts"
   ],
   "metadata": {
    "collapsed": false,
    "pycharm": {
     "name": "#%%\n"
    }
   }
  },
  {
   "cell_type": "markdown",
   "source": [],
   "metadata": {
    "collapsed": false
   }
  },
  {
   "cell_type": "code",
   "execution_count": 86,
   "outputs": [],
   "source": [
    "def count_word_pairs(documents_list):\n",
    "    _counts = {'positive': {}, 'negative': {}}\n",
    "    for _idx, document in enumerate(documents_list):\n",
    "            _sentiment = 'positive' if int(labels[_idx]) else 'negative'\n",
    "            _word_list = document.split()\n",
    "            for word_place, word in enumerate(_word_list):\n",
    "                if word_place < len(_word_list)-1:\n",
    "                    word_pair = word + ' ' + _word_list[word_place+1]\n",
    "                    if word_pair in _counts[_sentiment]:\n",
    "                        _counts[_sentiment][word_pair] += 1\n",
    "                    else:\n",
    "                        _counts[_sentiment][word_pair] = 1\n",
    "    return _counts"
   ],
   "metadata": {
    "collapsed": false,
    "pycharm": {
     "name": "#%%\n"
    }
   }
  },
  {
   "cell_type": "markdown",
   "source": [],
   "metadata": {
    "collapsed": false,
    "pycharm": {
     "name": "#%% md\n"
    }
   }
  },
  {
   "cell_type": "code",
   "execution_count": 87,
   "outputs": [],
   "source": [
    "def fit_words(_inputs):\n",
    "    _probabilities = count_words(_inputs)\n",
    "    num_positive = len(_probabilities['positive'])\n",
    "    num_negative = len(_probabilities['negative'])\n",
    "    for pos_word in _probabilities['positive']:\n",
    "        _probabilities['positive'][pos_word] = math.log(_probabilities['positive'][pos_word] / num_positive)\n",
    "    for neg_word in _probabilities['negative']:\n",
    "        _probabilities['negative'][neg_word] = math.log(_probabilities['negative'][neg_word] / num_negative)\n",
    "    return _probabilities\n",
    "\n",
    "def fit_pairs(_inputs):\n",
    "    _pair_probabilities = count_word_pairs(_inputs)\n",
    "    num_positive = len(_pair_probabilities['positive'])\n",
    "    num_negative = len(_pair_probabilities['negative'])\n",
    "    for pos_pair in _pair_probabilities['positive']:\n",
    "        _pair_probabilities['positive'][pos_pair] = math.log(_pair_probabilities['positive'][pos_pair] / num_positive)\n",
    "    for neg_pair in _pair_probabilities['negative']:\n",
    "        _pair_probabilities['negative'][neg_pair] = math.log(_pair_probabilities['negative'][neg_pair] / num_negative)\n",
    "    return _pair_probabilities\n",
    "\n",
    "def fit(_inputs):\n",
    "    return fit_words(_inputs), fit_pairs(_inputs)\n",
    "\n",
    "word_probabilities, pair_probabilities = fit(train_inputs)"
   ],
   "metadata": {
    "collapsed": false,
    "pycharm": {
     "name": "#%%\n"
    }
   }
  },
  {
   "cell_type": "markdown",
   "source": [],
   "metadata": {
    "collapsed": false,
    "pycharm": {
     "name": "#%% md\n"
    }
   }
  },
  {
   "cell_type": "code",
   "execution_count": 88,
   "outputs": [],
   "source": [
    "def get_positive_word_probability(_word):\n",
    "    if _word in word_probabilities['positive']:\n",
    "        return word_probabilities['positive'][_word]\n",
    "    else:\n",
    "        return math.log(1 / len(word_probabilities['positive']))\n",
    "def get_negative_word_probability(_word):\n",
    "    if _word in word_probabilities['negative']:\n",
    "        return word_probabilities['negative'][_word]\n",
    "    else:\n",
    "        return math.log(1 / len(word_probabilities['negative']))\n",
    "def get_positive_pair_probability(_pair):\n",
    "    if _pair in pair_probabilities['positive']:\n",
    "        return pair_probabilities['positive'][_pair]\n",
    "    else:\n",
    "        return math.log(1 / len(word_probabilities['positive']))\n",
    "def get_negative_pair_probability(_pair):\n",
    "    if _pair in pair_probabilities['negative']:\n",
    "        return pair_probabilities['negative'][_pair]\n",
    "    else:\n",
    "        return math.log(1 / len(pair_probabilities['negative']))"
   ],
   "metadata": {
    "collapsed": false,
    "pycharm": {
     "name": "#%%\n"
    }
   }
  },
  {
   "cell_type": "markdown",
   "source": [],
   "metadata": {
    "collapsed": false,
    "pycharm": {
     "name": "#%% md\n"
    }
   }
  },
  {
   "cell_type": "code",
   "execution_count": 89,
   "outputs": [],
   "source": [
    "def predict(_document):\n",
    "    positive_sum = 0\n",
    "    negative_sum = 0\n",
    "    _word_list = _document.split()\n",
    "    for _idx, _word in enumerate(_word_list):\n",
    "        positive_sum += get_positive_word_probability(_word)\n",
    "        negative_sum += get_negative_word_probability(_word)\n",
    "        if using_word_pairs and _idx < len(_word_list)-1:\n",
    "            positive_sum += get_positive_pair_probability(_word + ' ' + _word_list[_idx+1])\n",
    "            negative_sum += get_negative_pair_probability(_word + ' ' + _word_list[_idx+1])\n",
    "    return 1 if positive_sum > negative_sum else 0"
   ],
   "metadata": {
    "collapsed": false,
    "pycharm": {
     "name": "#%%\n"
    }
   }
  },
  {
   "cell_type": "markdown",
   "source": [],
   "metadata": {
    "collapsed": false
   }
  },
  {
   "cell_type": "code",
   "execution_count": 90,
   "outputs": [
    {
     "name": "stdout",
     "output_type": "stream",
     "text": [
      "Validation Accuracy: 0.8046636474659068\n"
     ]
    }
   ],
   "source": [
    "correct = 0\n",
    "for idx, doc in enumerate(test_inputs):\n",
    "    if predict(doc) == int(test_labels[idx]):\n",
    "        correct += 1\n",
    "print(\"Validation Accuracy:\", correct / len(test_inputs))"
   ],
   "metadata": {
    "collapsed": false,
    "pycharm": {
     "name": "#%%\n"
    }
   }
  }
 ],
 "metadata": {
  "kernelspec": {
   "name": "pycharm-310db17d",
   "language": "python",
   "display_name": "PyCharm (sentiment_analysis)"
  },
  "language_info": {
   "codemirror_mode": {
    "name": "ipython",
    "version": 2
   },
   "file_extension": ".py",
   "mimetype": "text/x-python",
   "name": "python",
   "nbconvert_exporter": "python",
   "pygments_lexer": "ipython2",
   "version": "2.7.6"
  }
 },
 "nbformat": 4,
 "nbformat_minor": 0
}