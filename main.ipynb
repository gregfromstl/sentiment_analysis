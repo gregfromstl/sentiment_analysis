{
 "cells": [
  {
   "cell_type": "markdown",
   "source": [
    "## Sentiment Analysis Challenge"
   ],
   "metadata": {
    "collapsed": false
   }
  },
  {
   "cell_type": "markdown",
   "source": [
    "Imports."
   ],
   "metadata": {
    "collapsed": false,
    "pycharm": {
     "name": "#%% md\n"
    }
   }
  },
  {
   "cell_type": "code",
   "execution_count": 135,
   "outputs": [],
   "source": [
    "import csv\n",
    "import math"
   ],
   "metadata": {
    "collapsed": false,
    "pycharm": {
     "name": "#%%\n"
    }
   }
  },
  {
   "cell_type": "markdown",
   "source": [
    "Set input variables."
   ],
   "metadata": {
    "collapsed": false,
    "pycharm": {
     "name": "#%% md\n"
    }
   }
  },
  {
   "cell_type": "code",
   "execution_count": 136,
   "outputs": [],
   "source": [
    "data_file = 'data/train.tsv'\n",
    "validation_percent = 0.05"
   ],
   "metadata": {
    "collapsed": false,
    "pycharm": {
     "name": "#%%\n"
    }
   }
  },
  {
   "cell_type": "markdown",
   "source": [
    "Import the data from provided file, only including valid rows with both labels and data."
   ],
   "metadata": {
    "collapsed": false,
    "pycharm": {
     "name": "#%% md\n"
    }
   }
  },
  {
   "cell_type": "code",
   "execution_count": 137,
   "outputs": [],
   "source": [
    "labels = []\n",
    "inputs = []\n",
    "with open('data/train.tsv', encoding='utf-8') as data:\n",
    "  reader = csv.reader(data, delimiter='\\t')\n",
    "  for row in reader:\n",
    "    if len(row) == 2:\n",
    "        labels.append(row[0])\n",
    "        inputs.append(row[1])"
   ],
   "metadata": {
    "collapsed": false,
    "pycharm": {
     "name": "#%%\n"
    }
   }
  },
  {
   "cell_type": "markdown",
   "source": [],
   "metadata": {
    "collapsed": false,
    "pycharm": {
     "name": "#%% md\n"
    }
   }
  },
  {
   "cell_type": "code",
   "execution_count": 138,
   "outputs": [],
   "source": [
    "num_train_samples = int(len(labels) * (1-validation_percent))\n",
    "train_labels = labels[:num_train_samples]\n",
    "train_inputs = inputs[:num_train_samples]\n",
    "val_labels = labels[num_train_samples:]\n",
    "val_inputs = inputs[num_train_samples:]"
   ],
   "metadata": {
    "collapsed": false,
    "pycharm": {
     "name": "#%%\n"
    }
   }
  },
  {
   "cell_type": "markdown",
   "source": [],
   "metadata": {
    "collapsed": false,
    "pycharm": {
     "name": "#%% md\n"
    }
   }
  },
  {
   "cell_type": "code",
   "execution_count": 139,
   "outputs": [],
   "source": [
    "def count_words(documents_list):\n",
    "    counts = {'positive': {}, 'negative': {}}\n",
    "    for idx, document in enumerate(documents_list):\n",
    "            if int(labels[idx]):\n",
    "                for word in document.split():\n",
    "                    if word in counts['positive']:\n",
    "                        counts['positive'][word] += 1\n",
    "                    else:\n",
    "                        counts['positive'][word] = 1\n",
    "            else:\n",
    "                for word in document.split():\n",
    "                    if word in counts['negative']:\n",
    "                        counts['negative'][word] += 1\n",
    "                    else:\n",
    "                        counts['negative'][word] = 1\n",
    "    return counts"
   ],
   "metadata": {
    "collapsed": false,
    "pycharm": {
     "name": "#%%\n"
    }
   }
  },
  {
   "cell_type": "markdown",
   "source": [],
   "metadata": {
    "collapsed": false
   }
  },
  {
   "cell_type": "code",
   "execution_count": 140,
   "outputs": [],
   "source": [
    "def fit(_inputs):\n",
    "    _probabilities = count_words(_inputs)\n",
    "    num_positive = len(_probabilities['positive'])\n",
    "    num_negative = len(_probabilities['negative'])\n",
    "    for pos_word in _probabilities['positive']:\n",
    "        _probabilities['positive'][pos_word] = math.log(_probabilities['positive'][pos_word] / num_positive)\n",
    "    for neg_word in _probabilities['negative']:\n",
    "        _probabilities['negative'][neg_word] = math.log(_probabilities['negative'][neg_word] / num_negative)\n",
    "    return _probabilities\n",
    "probabilities = fit(train_inputs)"
   ],
   "metadata": {
    "collapsed": false,
    "pycharm": {
     "name": "#%%\n"
    }
   }
  },
  {
   "cell_type": "markdown",
   "source": [],
   "metadata": {
    "collapsed": false,
    "pycharm": {
     "name": "#%% md\n"
    }
   }
  },
  {
   "cell_type": "code",
   "execution_count": 141,
   "outputs": [],
   "source": [
    "def get_positive_probability(_word):\n",
    "    if _word in probabilities['positive']:\n",
    "        return probabilities['positive'][_word]\n",
    "    else:\n",
    "        return math.log(1 / len(probabilities['positive']))\n",
    "def get_negative_probability(_word):\n",
    "    if _word in probabilities['negative']:\n",
    "        return probabilities['negative'][_word]\n",
    "    else:\n",
    "        return math.log(1 / len(probabilities['negative']))"
   ],
   "metadata": {
    "collapsed": false,
    "pycharm": {
     "name": "#%%\n"
    }
   }
  },
  {
   "cell_type": "markdown",
   "source": [],
   "metadata": {
    "collapsed": false,
    "pycharm": {
     "name": "#%% md\n"
    }
   }
  },
  {
   "cell_type": "code",
   "execution_count": 142,
   "outputs": [],
   "source": [
    "def predict(_document):\n",
    "    positive_sum = 0\n",
    "    negative_sum = 0\n",
    "    for _word in _document.split():\n",
    "        positive_sum += get_positive_probability(_word)\n",
    "        negative_sum += get_negative_probability(_word)\n",
    "    return 1 if positive_sum > negative_sum else 0"
   ],
   "metadata": {
    "collapsed": false,
    "pycharm": {
     "name": "#%%\n"
    }
   }
  },
  {
   "cell_type": "markdown",
   "source": [],
   "metadata": {
    "collapsed": false
   }
  },
  {
   "cell_type": "code",
   "execution_count": 143,
   "outputs": [
    {
     "name": "stdout",
     "output_type": "stream",
     "text": [
      "1\n",
      "Validation Accuracy: 0.7387433223098449\n"
     ]
    }
   ],
   "source": [
    "correct = 0\n",
    "print(predict('Dwi ddim yn hapus iawn heddiw'))\n",
    "for idx, doc in enumerate(val_inputs):\n",
    "    if predict(doc) == int(val_labels[idx]):\n",
    "        correct += 1\n",
    "print(\"Validation Accuracy:\", correct / len(val_inputs))"
   ],
   "metadata": {
    "collapsed": false,
    "pycharm": {
     "name": "#%%\n"
    }
   }
  }
 ],
 "metadata": {
  "kernelspec": {
   "name": "pycharm-310db17d",
   "language": "python",
   "display_name": "PyCharm (sentiment_analysis)"
  },
  "language_info": {
   "codemirror_mode": {
    "name": "ipython",
    "version": 2
   },
   "file_extension": ".py",
   "mimetype": "text/x-python",
   "name": "python",
   "nbconvert_exporter": "python",
   "pygments_lexer": "ipython2",
   "version": "2.7.6"
  }
 },
 "nbformat": 4,
 "nbformat_minor": 0
}