{
 "cells": [
  {
   "cell_type": "markdown",
   "metadata": {},
   "source": [
    "# Sentiment Analysis\n",
    "### Anything Goes Implementation\n",
    "\n",
    "This implementation is heavily based on Dr. Scannell's Keras example notebook. I tried a few other implementations using other libraries such as PyTorch (which I am much more familiar with than Keras), but it's NLP package, Torchtext, seems to have a significant learning curve. So for this project I went with Keras based on ease of getting started with the example code. I'm hoping I can spend some time in the coming weeks to get more familiar with the PyTorch NLP packages and plan to use those in the future."
   ]
  },
  {
   "cell_type": "markdown",
   "metadata": {},
   "source": [
    "Imports"
   ]
  },
  {
   "cell_type": "code",
   "execution_count": 1,
   "metadata": {
    "pycharm": {
     "name": "#%%\n"
    }
   },
   "outputs": [],
   "source": [
    "import csv\n",
    "import pandas as pd\n",
    "import numpy as np\n",
    "from sklearn.model_selection import train_test_split\n",
    "from tensorflow.keras.preprocessing.text import Tokenizer\n",
    "from tensorflow.keras.preprocessing.sequence import pad_sequences\n",
    "from tensorflow.keras.models import Sequential\n",
    "from tensorflow.keras.layers import Dense, LSTM, Embedding, Conv1D\n",
    "from tensorflow.keras.optimizers import Adam\n",
    "from sklearn.metrics import classification_report, accuracy_score"
   ]
  },
  {
   "cell_type": "markdown",
   "metadata": {
    "pycharm": {
     "name": "#%%\n"
    }
   },
   "source": [
    "As in my \"from scratch\" implementation, **to run with test data simply assign the `test_file` variable to the relative filepath.** If not developing and only testing, set the `validation_percent` to 0.01 or some other very small number so as to maximize the amount of training data available."
   ]
  },
  {
   "cell_type": "code",
   "execution_count": 2,
   "metadata": {
    "pycharm": {
     "name": "#%%\n"
    }
   },
   "outputs": [],
   "source": [
    "train_file = 'data/train.tsv'\n",
    "validation_percent = 0.3\n",
    "# if running locally, using only a subset of the overall dataset for development purposes\n",
    "using_subset = True\n",
    "subset_count = 5000\n",
    "test_file = ''"
   ]
  },
  {
   "cell_type": "markdown",
   "metadata": {
    "pycharm": {
     "name": "#%% md\n"
    }
   },
   "source": [
    "Load all training data. This is the same code as in the \"from scratch\" implementation."
   ]
  },
  {
   "cell_type": "code",
   "execution_count": 3,
   "metadata": {},
   "outputs": [
    {
     "name": "stdout",
     "output_type": "stream",
     "text": [
      "Loading training data...\n",
      "Loaded 4997 documents\n"
     ]
    }
   ],
   "source": [
    "print(\"Loading training data...\")\n",
    "labels = []\n",
    "inputs = []\n",
    "with open(train_file, encoding='utf-8') as data:\n",
    "  reader = csv.reader(data, delimiter='\\t')\n",
    "  idx = 0\n",
    "  for row in reader:\n",
    "    if len(row) == 2 and (idx < subset_count or not using_subset):\n",
    "        labels.append(row[0])\n",
    "        inputs.append(row[1])\n",
    "    idx += 1\n",
    "print(\"Loaded {} documents\".format(len(labels)))"
   ]
  },
  {
   "cell_type": "markdown",
   "metadata": {},
   "source": [
    "Load testing data if testing."
   ]
  },
  {
   "cell_type": "code",
   "execution_count": 4,
   "metadata": {},
   "outputs": [],
   "source": [
    "test_labels = []\n",
    "test_inputs = []\n",
    "if len(test_file) > 0:  \n",
    "    print(\"Loading testing data...\")\n",
    "    with open(test_file, encoding='utf-8') as data:\n",
    "      reader = csv.reader(data, delimiter='\\t')\n",
    "      idx = 0\n",
    "      for row in reader:\n",
    "        if len(row) == 2 and (idx < subset_count or not using_subset):\n",
    "            test_labels.append(row[0])\n",
    "            test_inputs.append(row[1])\n",
    "        idx += 1\n",
    "    print(\"Loaded {} documents\".format(len(labels)))"
   ]
  },
  {
   "cell_type": "markdown",
   "metadata": {
    "pycharm": {
     "name": "#%% md\n"
    }
   },
   "source": [
    "Turn the train and test data into a pandas dataframe."
   ]
  },
  {
   "cell_type": "code",
   "execution_count": 5,
   "metadata": {
    "pycharm": {
     "name": "#%%\n"
    }
   },
   "outputs": [],
   "source": [
    "data = {'labels': labels, 'inputs': inputs}\n",
    "train_data = pd.DataFrame(data=data)\n",
    "test_data = {'labels': test_labels, 'inputs': test_inputs}\n",
    "test_data = pd.DataFrame(data=data)"
   ]
  },
  {
   "cell_type": "markdown",
   "metadata": {},
   "source": [
    "Split the training data into train and validation sets."
   ]
  },
  {
   "cell_type": "code",
   "execution_count": 6,
   "metadata": {
    "pycharm": {
     "name": "#%%\n"
    }
   },
   "outputs": [],
   "source": [
    "X_train, X_valid, y_train_str, y_valid_str = train_test_split(train_data['inputs'], train_data['labels'], test_size=validation_percent, random_state = 42)\n",
    "y_train = [int(a) for a in y_train_str]\n",
    "y_valid = [int(a) for a in y_valid_str]\n",
    "y_test = [int(a) for a in test_data['labels']]"
   ]
  },
  {
   "cell_type": "markdown",
   "metadata": {
    "pycharm": {
     "name": "#%% md\n"
    }
   },
   "source": [
    "Create word tokens from the top 10,000 words"
   ]
  },
  {
   "cell_type": "code",
   "execution_count": 7,
   "metadata": {
    "pycharm": {
     "name": "#%%\n"
    }
   },
   "outputs": [],
   "source": [
    "V = 10000\n",
    "tokenizer = Tokenizer(num_words=V)\n",
    "tokenizer.fit_on_texts(train_data['inputs'])"
   ]
  },
  {
   "cell_type": "markdown",
   "metadata": {
    "pycharm": {
     "name": "#%% md\n"
    }
   },
   "source": [
    "Generate sequences and pad with 0s so all lengths are equal."
   ]
  },
  {
   "cell_type": "code",
   "execution_count": 8,
   "metadata": {
    "pycharm": {
     "name": "#%%\n"
    }
   },
   "outputs": [],
   "source": [
    "max_length = max([len(document.split()) for document in train_data['inputs']])\n",
    "X_train_seq = tokenizer.texts_to_sequences(X_train)\n",
    "X_valid_seq = tokenizer.texts_to_sequences(X_valid)\n",
    "X_test_seq = tokenizer.texts_to_sequences(test_data['inputs'])\n",
    "X_train_padded = pad_sequences(X_train_seq, maxlen=max_length, padding='post')\n",
    "X_valid_padded = pad_sequences(X_valid_seq, maxlen=max_length, padding='post')\n",
    "X_test_padded = pad_sequences(X_test_seq, maxlen=max_length, padding='post')"
   ]
  },
  {
   "cell_type": "markdown",
   "metadata": {
    "pycharm": {
     "name": "#%% md\n"
    }
   },
   "source": [
    "I decided to make two major changes to the model. For one, I added two LSTM layers. The single layer did not seem to be enough to capture the complexity necessary for the task. I also tried a few other layers such as a 1D convolutional layer but settled on purely LSTM.\n",
    "Secondly, I increased the learning rate to 0.05 in an attempt to increase training speed and prevent getting trapped in local minima."
   ]
  },
  {
   "cell_type": "code",
   "execution_count": 9,
   "metadata": {
    "pycharm": {
     "name": "#%%\n"
    }
   },
   "outputs": [
    {
     "name": "stdout",
     "output_type": "stream",
     "text": [
      "Model: \"sequential\"\n",
      "_________________________________________________________________\n",
      "Layer (type)                 Output Shape              Param #   \n",
      "=================================================================\n",
      "embedding (Embedding)        (None, 557, 100)          1000000   \n",
      "_________________________________________________________________\n",
      "lstm (LSTM)                  (None, 557, 100)          80400     \n",
      "_________________________________________________________________\n",
      "lstm_1 (LSTM)                (None, 557, 100)          80400     \n",
      "_________________________________________________________________\n",
      "lstm_2 (LSTM)                (None, 100)               80400     \n",
      "_________________________________________________________________\n",
      "dense (Dense)                (None, 1)                 101       \n",
      "=================================================================\n",
      "Total params: 1,241,301\n",
      "Trainable params: 1,241,301\n",
      "Non-trainable params: 0\n",
      "_________________________________________________________________\n"
     ]
    }
   ],
   "source": [
    "emb_dim = 100\n",
    "model = Sequential()\n",
    "model.add(Embedding(input_dim=V, output_dim=emb_dim, input_length=max_length))\n",
    "model.add(LSTM(100, dropout=0.2, return_sequences=True))\n",
    "model.add(LSTM(100, dropout=0.1, return_sequences=True))\n",
    "model.add(LSTM(100))\n",
    "model.add(Dense(1, activation='sigmoid'))\n",
    "optimizer = Adam(learning_rate=0.05)\n",
    "model.compile(loss='binary_crossentropy', optimizer=optimizer, metrics=['accuracy'])\n",
    "model.summary()"
   ]
  },
  {
   "cell_type": "markdown",
   "metadata": {
    "pycharm": {
     "name": "#%% md\n"
    }
   },
   "source": [
    "Fit the model for 50 epochs with 64 batch size"
   ]
  },
  {
   "cell_type": "code",
   "execution_count": null,
   "metadata": {
    "pycharm": {
     "name": "#%%\n"
    }
   },
   "outputs": [
    {
     "name": "stdout",
     "output_type": "stream",
     "text": [
      "Epoch 1/50\n",
      "55/55 [==============================] - 75s 1s/step - loss: 0.7389 - accuracy: 0.5107 - val_loss: 0.7002 - val_accuracy: 0.4980\n",
      "Epoch 2/50\n",
      "55/55 [==============================] - 71s 1s/step - loss: 0.7132 - accuracy: 0.4990 - val_loss: 0.7770 - val_accuracy: 0.5020\n",
      "Epoch 3/50\n",
      "55/55 [==============================] - 71s 1s/step - loss: 0.7061 - accuracy: 0.5099 - val_loss: 0.6959 - val_accuracy: 0.5020\n",
      "Epoch 4/50\n",
      "55/55 [==============================] - ETA: 0s - loss: 0.7172 - accuracy: 0.4841"
     ]
    }
   ],
   "source": [
    "model.fit(X_train_padded, np.asarray(y_train), batch_size=64, epochs=50, validation_data=(X_valid_padded, np.asarray(y_valid)),verbose=1)"
   ]
  },
  {
   "cell_type": "code",
   "execution_count": null,
   "metadata": {},
   "outputs": [],
   "source": [
    "y_classes = model.predict_classes(x=X_valid_padded)\n",
    "print(accuracy_score(y_valid, y_classes))\n",
    "print(classification_report(y_valid, y_classes))\n",
    "\n",
    "if len(train_file) > 0:\n",
    "    max_length = max([len(document.split()) for document in test_data['inputs']])\n",
    "    X_test_seq = tokenizer.texts_to_sequences(X_train)\n",
    "    X_train_padded = pad_sequences(X_train_seq, maxlen=max_length, padding='post')\n",
    "\n",
    "    y_classes = model.predict_classes(x=X_test_padded)\n",
    "    print(accuracy_score(y_test, y_classes))\n",
    "    print(classification_report(y_test, y_classes))"
   ]
  }
 ],
 "metadata": {
  "kernelspec": {
   "display_name": "Python 3",
   "language": "python",
   "name": "python3"
  },
  "language_info": {
   "codemirror_mode": {
    "name": "ipython",
    "version": 3
   },
   "file_extension": ".py",
   "mimetype": "text/x-python",
   "name": "python",
   "nbconvert_exporter": "python",
   "pygments_lexer": "ipython3",
   "version": "3.7.6"
  }
 },
 "nbformat": 4,
 "nbformat_minor": 1
}
